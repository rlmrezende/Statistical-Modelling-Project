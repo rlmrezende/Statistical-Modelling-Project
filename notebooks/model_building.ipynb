{
 "cells": [
  {
   "attachments": {},
   "cell_type": "markdown",
   "metadata": {},
   "source": [
    "Build a regression model."
   ]
  },
  {
   "cell_type": "code",
   "execution_count": 1,
   "metadata": {},
   "outputs": [],
   "source": [
    "import pandas as pd\n",
    "import statsmodels.api as sm\n"
   ]
  },
  {
   "cell_type": "code",
   "execution_count": 3,
   "metadata": {},
   "outputs": [],
   "source": [
    "# Read the merged dataframe\n",
    "df_merged = pd.read_csv('df_merged.csv')\n",
    "\n",
    "# Convert object columns to appropriate data types\n",
    "df_merged['fsq_id'] = df_merged['fsq_id'].astype(str)\n",
    "df_merged['name_y'] = df_merged['name_y'].astype(str)\n",
    "df_merged['categories'] = df_merged['categories'].astype(str)\n",
    "df_merged['address'] = df_merged['address'].astype(str)\n",
    "df_merged['Name'] = df_merged['Name'].astype(str)\n",
    "df_merged['Address'] = df_merged['Address'].astype(str)\n",
    "df_merged['City'] = df_merged['City'].astype(str)\n",
    "df_merged['State'] = df_merged['State'].astype(str)\n",
    "df_merged['ZIP Code'] = pd.to_numeric(df_merged['ZIP Code'], errors='coerce')\n",
    "\n",
    "\n"
   ]
  },
  {
   "attachments": {},
   "cell_type": "markdown",
   "metadata": {},
   "source": [
    "Provide model output and an interpretation of the results. "
   ]
  },
  {
   "cell_type": "code",
   "execution_count": 11,
   "metadata": {},
   "outputs": [
    {
     "name": "stdout",
     "output_type": "stream",
     "text": [
      "                            OLS Regression Results                            \n",
      "==============================================================================\n",
      "Dep. Variable:             free_bikes   R-squared:                       0.373\n",
      "Model:                            OLS   Adj. R-squared:                  0.372\n",
      "Method:                 Least Squares   F-statistic:                     1157.\n",
      "Date:                Sun, 04 Jun 2023   Prob (F-statistic):               0.00\n",
      "Time:                        14:24:34   Log-Likelihood:                -19407.\n",
      "No. Observations:                7795   AIC:                         3.882e+04\n",
      "Df Residuals:                    7790   BIC:                         3.886e+04\n",
      "Df Model:                           4                                         \n",
      "Covariance Type:            nonrobust                                         \n",
      "==================================================================================\n",
      "                     coef    std err          t      P>|t|      [0.025      0.975]\n",
      "----------------------------------------------------------------------------------\n",
      "const           1640.9711    126.409     12.981      0.000    1393.176    1888.766\n",
      "empty_slots       -0.7066      0.011    -66.499      0.000      -0.727      -0.686\n",
      "latitude          -2.3530      0.864     -2.723      0.006      -4.047      -0.659\n",
      "longitude         17.8039      1.405     12.674      0.000      15.050      20.558\n",
      "Rating             0.0196      0.071      0.275      0.783      -0.120       0.159\n",
      "Yelp_Latitude     -2.3530      0.864     -2.723      0.006      -4.047      -0.659\n",
      "Yelp_Longitude    17.8039      1.405     12.674      0.000      15.050      20.558\n",
      "==============================================================================\n",
      "Omnibus:                     3022.396   Durbin-Watson:                   0.019\n",
      "Prob(Omnibus):                  0.000   Jarque-Bera (JB):            10450.691\n",
      "Skew:                           1.997   Prob(JB):                         0.00\n",
      "Kurtosis:                       7.028   Cond. No.                     3.40e+19\n",
      "==============================================================================\n",
      "\n",
      "Notes:\n",
      "[1] Standard Errors assume that the covariance matrix of the errors is correctly specified.\n",
      "[2] The smallest eigenvalue is 3.49e-32. This might indicate that there are\n",
      "strong multicollinearity problems or that the design matrix is singular.\n"
     ]
    }
   ],
   "source": [
    "# Select the relevant columns for the regression model\n",
    "X = df_merged[['empty_slots', 'latitude', 'longitude', 'Rating', 'Yelp_Latitude', 'Yelp_Longitude']]\n",
    "y = df_merged['free_bikes']\n",
    "\n",
    "# Add intercept term to the independent variables\n",
    "X = sm.add_constant(X)\n",
    "\n",
    "# Fit the regression model\n",
    "model = sm.OLS(y, X).fit()\n",
    "\n",
    "# Print the model summary\n",
    "print(model.summary())"
   ]
  },
  {
   "attachments": {},
   "cell_type": "markdown",
   "metadata": {},
   "source": [
    "# Stretch"
   ]
  },
  {
   "attachments": {},
   "cell_type": "markdown",
   "metadata": {},
   "source": [
    "How can you turn the regression model into a classification model?"
   ]
  },
  {
   "cell_type": "code",
   "execution_count": 12,
   "metadata": {},
   "outputs": [
    {
     "name": "stdout",
     "output_type": "stream",
     "text": [
      "Accuracy: 0.09031430404105195\n",
      "Precision: 0.07983595352016405\n",
      "Recall: 0.9358974358974359\n",
      "F1 Score: 0.14712180375362138\n"
     ]
    }
   ],
   "source": [
    "import numpy as np\n",
    "\n",
    "# Obtain the predicted values from the regression model\n",
    "y_pred = model.predict(X)\n",
    "\n",
    "# Define the threshold value\n",
    "threshold = 0.5\n",
    "\n",
    "# Classify the observations based on the predicted values\n",
    "y_pred_class = np.where(y_pred > threshold, 1, 0)\n",
    "\n",
    "# Evaluate the performance of the classification model\n",
    "accuracy = np.mean(y_pred_class == y)\n",
    "precision = np.sum((y_pred_class == 1) & (y == 1)) / np.sum(y_pred_class == 1)\n",
    "recall = np.sum((y_pred_class == 1) & (y == 1)) / np.sum(y == 1)\n",
    "f1_score = 2 * (precision * recall) / (precision + recall)\n",
    "\n",
    "# Print the classification metrics\n",
    "print(\"Accuracy:\", accuracy)\n",
    "print(\"Precision:\", precision)\n",
    "print(\"Recall:\", recall)\n",
    "print(\"F1 Score:\", f1_score)\n"
   ]
  }
 ],
 "metadata": {
  "kernelspec": {
   "display_name": "test_env",
   "language": "python",
   "name": "test_env"
  },
  "language_info": {
   "codemirror_mode": {
    "name": "ipython",
    "version": 3
   },
   "file_extension": ".py",
   "mimetype": "text/x-python",
   "name": "python",
   "nbconvert_exporter": "python",
   "pygments_lexer": "ipython3",
   "version": "3.9.13"
  }
 },
 "nbformat": 4,
 "nbformat_minor": 4
}
