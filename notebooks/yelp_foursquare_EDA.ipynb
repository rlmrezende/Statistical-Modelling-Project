{
 "cells": [
  {
   "cell_type": "code",
   "execution_count": 2,
   "metadata": {},
   "outputs": [],
   "source": [
    "import pandas as pd\n",
    "import requests\n",
    "import json\n",
    "import os \n",
    "\n",
    "foursquare_key = os.environ[\"FOURSQUARE_API_KEY\"]\n",
    "yelp_key = os.environ[\"YELP_API_KEY\"]\n",
    "yelp_key2 = os.environ[\"YELP_API_KEY2\"]"
   ]
  },
  {
   "cell_type": "code",
   "execution_count": 3,
   "metadata": {},
   "outputs": [],
   "source": [
    "# Read the CSV files\n",
    "df = pd.read_csv('df_city_bike.csv')"
   ]
  },
  {
   "cell_type": "code",
   "execution_count": 4,
   "metadata": {},
   "outputs": [
    {
     "data": {
      "text/html": [
       "<div>\n",
       "<style scoped>\n",
       "    .dataframe tbody tr th:only-of-type {\n",
       "        vertical-align: middle;\n",
       "    }\n",
       "\n",
       "    .dataframe tbody tr th {\n",
       "        vertical-align: top;\n",
       "    }\n",
       "\n",
       "    .dataframe thead th {\n",
       "        text-align: right;\n",
       "    }\n",
       "</style>\n",
       "<table border=\"1\" class=\"dataframe\">\n",
       "  <thead>\n",
       "    <tr style=\"text-align: right;\">\n",
       "      <th></th>\n",
       "      <th>name</th>\n",
       "      <th>empty_slots</th>\n",
       "      <th>free_bikes</th>\n",
       "      <th>latitude</th>\n",
       "      <th>longitude</th>\n",
       "    </tr>\n",
       "  </thead>\n",
       "  <tbody>\n",
       "    <tr>\n",
       "      <th>0</th>\n",
       "      <td>56 - CLN 110 W1 Norte</td>\n",
       "      <td>9</td>\n",
       "      <td>2</td>\n",
       "      <td>-15.758862</td>\n",
       "      <td>-47.888820</td>\n",
       "    </tr>\n",
       "    <tr>\n",
       "      <th>1</th>\n",
       "      <td>54 - CLN 107</td>\n",
       "      <td>6</td>\n",
       "      <td>5</td>\n",
       "      <td>-15.766000</td>\n",
       "      <td>-47.886460</td>\n",
       "    </tr>\n",
       "    <tr>\n",
       "      <th>2</th>\n",
       "      <td>42 - CLN 204 L1 Norte</td>\n",
       "      <td>11</td>\n",
       "      <td>0</td>\n",
       "      <td>-15.776620</td>\n",
       "      <td>-47.877490</td>\n",
       "    </tr>\n",
       "    <tr>\n",
       "      <th>3</th>\n",
       "      <td>48 - CLN 209 L1 Norte</td>\n",
       "      <td>1</td>\n",
       "      <td>14</td>\n",
       "      <td>-15.757370</td>\n",
       "      <td>-47.882230</td>\n",
       "    </tr>\n",
       "    <tr>\n",
       "      <th>4</th>\n",
       "      <td>43 - SQN 405 L2 Norte</td>\n",
       "      <td>8</td>\n",
       "      <td>7</td>\n",
       "      <td>-15.771630</td>\n",
       "      <td>-47.875050</td>\n",
       "    </tr>\n",
       "    <tr>\n",
       "      <th>...</th>\n",
       "      <td>...</td>\n",
       "      <td>...</td>\n",
       "      <td>...</td>\n",
       "      <td>...</td>\n",
       "      <td>...</td>\n",
       "    </tr>\n",
       "    <tr>\n",
       "      <th>65</th>\n",
       "      <td>70 - UNB Centro Olímpico</td>\n",
       "      <td>1</td>\n",
       "      <td>10</td>\n",
       "      <td>-15.765020</td>\n",
       "      <td>-47.858400</td>\n",
       "    </tr>\n",
       "    <tr>\n",
       "      <th>66</th>\n",
       "      <td>17 - Funarte</td>\n",
       "      <td>12</td>\n",
       "      <td>2</td>\n",
       "      <td>-15.791163</td>\n",
       "      <td>-47.897600</td>\n",
       "    </tr>\n",
       "    <tr>\n",
       "      <th>67</th>\n",
       "      <td>61 - CLN 113 W1 Norte</td>\n",
       "      <td>10</td>\n",
       "      <td>1</td>\n",
       "      <td>-15.750380</td>\n",
       "      <td>-47.891660</td>\n",
       "    </tr>\n",
       "    <tr>\n",
       "      <th>68</th>\n",
       "      <td>28 - Banco Central</td>\n",
       "      <td>6</td>\n",
       "      <td>5</td>\n",
       "      <td>-15.799740</td>\n",
       "      <td>-47.884110</td>\n",
       "    </tr>\n",
       "    <tr>\n",
       "      <th>69</th>\n",
       "      <td>40 - SBN</td>\n",
       "      <td>5</td>\n",
       "      <td>6</td>\n",
       "      <td>-15.789710</td>\n",
       "      <td>-47.880585</td>\n",
       "    </tr>\n",
       "  </tbody>\n",
       "</table>\n",
       "<p>70 rows × 5 columns</p>\n",
       "</div>"
      ],
      "text/plain": [
       "                        name  empty_slots  free_bikes   latitude  longitude\n",
       "0      56 - CLN 110 W1 Norte            9           2 -15.758862 -47.888820\n",
       "1               54 - CLN 107            6           5 -15.766000 -47.886460\n",
       "2      42 - CLN 204 L1 Norte           11           0 -15.776620 -47.877490\n",
       "3      48 - CLN 209 L1 Norte            1          14 -15.757370 -47.882230\n",
       "4      43 - SQN 405 L2 Norte            8           7 -15.771630 -47.875050\n",
       "..                       ...          ...         ...        ...        ...\n",
       "65  70 - UNB Centro Olímpico            1          10 -15.765020 -47.858400\n",
       "66              17 - Funarte           12           2 -15.791163 -47.897600\n",
       "67     61 - CLN 113 W1 Norte           10           1 -15.750380 -47.891660\n",
       "68        28 - Banco Central            6           5 -15.799740 -47.884110\n",
       "69                  40 - SBN            5           6 -15.789710 -47.880585\n",
       "\n",
       "[70 rows x 5 columns]"
      ]
     },
     "execution_count": 4,
     "metadata": {},
     "output_type": "execute_result"
    }
   ],
   "source": [
    "df"
   ]
  },
  {
   "attachments": {},
   "cell_type": "markdown",
   "metadata": {},
   "source": [
    "# Foursquare"
   ]
  },
  {
   "attachments": {},
   "cell_type": "markdown",
   "metadata": {},
   "source": [
    "Send a request to Foursquare with a small radius (1000m) for all the bike stations in your city of choice. "
   ]
  },
  {
   "cell_type": "code",
   "execution_count": 5,
   "metadata": {},
   "outputs": [],
   "source": [
    "def send_foursquare_request(df, foursquare_key, parse_callback):\n",
    "    parsed_results = []\n",
    "\n",
    "    # Define the headers\n",
    "    headers = {\n",
    "        \"accept\": \"application/json\",\n",
    "        \"Authorization\": foursquare_key\n",
    "    }\n",
    "\n",
    "    # Send requests and process responses\n",
    "    for _, row in df.iterrows():\n",
    "        latitude = row['latitude']\n",
    "        longitude = row['longitude']\n",
    "        url = f\"https://api.foursquare.com/v3/places/search?ll={latitude}%2C{longitude}&radius=1000&fields=categories%2Crating%2Cgeocodes%2Ccategories%2Clocation%2Cname%2Cfsq_id%2Cstats%2Cprice&limit=50\"\n",
    "        \n",
    "        response = requests.get(url, headers=headers)\n",
    "        response.raise_for_status()\n",
    "        pois = parse_callback(response.json())\n",
    "\n",
    "        # Extend the parsed results list with the new POIs\n",
    "        for poi in pois:\n",
    "            poi['latitude'] = latitude\n",
    "            poi['longitude'] = longitude\n",
    "\n",
    "        parsed_results.extend(pois)\n",
    "\n",
    "    return parsed_results\n"
   ]
  },
  {
   "attachments": {},
   "cell_type": "markdown",
   "metadata": {},
   "source": [
    "Parse through the response to get the POI (such as restaurants, bars, etc) details you want (ratings, name, location, etc)"
   ]
  },
  {
   "cell_type": "code",
   "execution_count": 6,
   "metadata": {},
   "outputs": [],
   "source": [
    "def parse_response(response):\n",
    "    if 'results' in response:\n",
    "        pois = []\n",
    "\n",
    "        for result in response['results']:\n",
    "            fsq_id = result['fsq_id']\n",
    "            name = result['name']\n",
    "            rating = result.get('rating', None)\n",
    "            categories = [category['name'] for category in result.get('categories', [])]\n",
    "            location = result.get('location', {})\n",
    "            address = location.get('formatted_address', '')\n",
    "            latitude = location.get('latitude', '')\n",
    "            longitude = location.get('longitude', '')\n",
    "\n",
    "            poi = {\n",
    "                'fsq_id': fsq_id,\n",
    "                'name': name,\n",
    "                'rating': rating,\n",
    "                'categories': categories,\n",
    "                'address': address,\n",
    "                'latitude': latitude,\n",
    "                'longitude': longitude\n",
    "            }\n",
    "\n",
    "            # Filter by restaurant category\n",
    "            if 'Restaurant' in categories:\n",
    "                pois.append(poi)\n",
    "\n",
    "        return pois\n",
    "\n",
    "    return []\n",
    "\n",
    "# Chamando a função send_foursquare_request com parse_response como callback\n",
    "results = send_foursquare_request(df, foursquare_key, parse_response)\n"
   ]
  },
  {
   "attachments": {},
   "cell_type": "markdown",
   "metadata": {},
   "source": [
    "Put your parsed results into a DataFrame"
   ]
  },
  {
   "cell_type": "code",
   "execution_count": 7,
   "metadata": {},
   "outputs": [
    {
     "name": "stdout",
     "output_type": "stream",
     "text": [
      "                       fsq_id                                          name  \\\n",
      "0    4cfe88e1084f548186099109                           Torteria Di Lorenza   \n",
      "1    548b5911498ecccac953fc61                                      Café Oyá   \n",
      "2    537f6252498e54e075c1b714                               Dulce Patagonia   \n",
      "3    4e97331df5b91722c72e3cf2                               Delícia de Bolo   \n",
      "4    5682ee79498e148ae235ced0  Philippe Verstraete Pâtisserie e Boulangerie   \n",
      "..                        ...                                           ...   \n",
      "385  5706d023498eb7eb702acffe                                    Gádio Café   \n",
      "386  4bb3624a2397b713070338b3                                    Kopenhagen   \n",
      "387  53d6cffd498ee7e6da02f4df                            Chiquinho Sorvetes   \n",
      "388  4ca75e32a6e08cfa4dd08394                                     Yogoberry   \n",
      "389  515cceace4b0c49b3f20da69                                   Malbec Beer   \n",
      "\n",
      "     rating                                         categories  \\\n",
      "0       6.6                   [Café, Dessert Shop, Restaurant]   \n",
      "1       7.3                                 [Café, Restaurant]   \n",
      "2       8.9                    [Café, Pastry Shop, Restaurant]   \n",
      "3       8.1                                 [Café, Restaurant]   \n",
      "4       6.4                 [Bakery, Dessert Shop, Restaurant]   \n",
      "..      ...                                                ...   \n",
      "385     7.2                                 [Café, Restaurant]   \n",
      "386     7.6                          [Coffee Shop, Restaurant]   \n",
      "387     7.4                     [Ice Cream Parlor, Restaurant]   \n",
      "388     6.8  [Frozen Yogurt Shop, Ice Cream Parlor, Restaur...   \n",
      "389     8.1                         [Bar, Brewery, Restaurant]   \n",
      "\n",
      "                                               address   latitude  longitude  \n",
      "0               CLN 109 Bl. C, Brasília, DF, 70752-530 -15.758862 -47.888820  \n",
      "1           CLN 307 Blc A, 10, Brasília, DF, 70752-510 -15.758862 -47.888820  \n",
      "2                Cln 309 Bl C, Brasília, DF, 70755-530 -15.758862 -47.888820  \n",
      "3                   Sclrn 709, Brasília, DF, 70750-510 -15.758862 -47.888820  \n",
      "4    S CLN 310 BLoco A shop 4 Comercio Local Norte,... -15.758862 -47.888820  \n",
      "..                                                 ...        ...        ...  \n",
      "385  Shopping Conjunto Nacional (2º Piso), Brasília... -15.789710 -47.880585  \n",
      "386  Shopping Conjunto Nacional (2º Piso), Brasília... -15.789710 -47.880585  \n",
      "387    Sdn Lote Unico cj a SN, Brasília, DF, 70077-900 -15.789710 -47.880585  \n",
      "388  Shopping Conjunto Nacional (1º Piso, Quiosque ... -15.789710 -47.880585  \n",
      "389    Shn Quadra, 1 (Térreo), Brasília, DF, 70701-010 -15.789710 -47.880585  \n",
      "\n",
      "[390 rows x 7 columns]\n"
     ]
    }
   ],
   "source": [
    "def create_dataframe(parsed_results):\n",
    "    # Create a DataFrame from the parsed results\n",
    "    df_foursquare = pd.DataFrame(parsed_results)\n",
    "    return df_foursquare\n",
    "\n",
    "# Call the function with the DataFrame, the foursquare_key, and parse_response as the callback\n",
    "parsed_results = send_foursquare_request(df, foursquare_key, parse_response)\n",
    "\n",
    "# Create a DataFrame from the parsed results for Parte 3\n",
    "df_foursquare = create_dataframe(parsed_results)\n",
    "\n",
    "# Display the parsed DataFrame\n",
    "print(df_foursquare)\n"
   ]
  },
  {
   "attachments": {},
   "cell_type": "markdown",
   "metadata": {},
   "source": [
    "# Yelp"
   ]
  },
  {
   "attachments": {},
   "cell_type": "markdown",
   "metadata": {},
   "source": [
    "Send a request to Yelp with a small radius (1000m) for all the bike stations in your city of choice. "
   ]
  },
  {
   "cell_type": "code",
   "execution_count": 8,
   "metadata": {},
   "outputs": [],
   "source": [
    "# Parte 1: Send a request to Yelp with a small radius (1000m) for all the bike stations in your city of choice.\n",
    "def get_yelp(latitude, longitude, yelp_key):\n",
    "    url = \"https://api.yelp.com/v3/businesses/search\"\n",
    "\n",
    "    headers = {\n",
    "        \"Authorization\": f\"Bearer {yelp_key2}\"\n",
    "    }\n",
    "\n",
    "    params = {\n",
    "        \"latitude\": latitude,\n",
    "        \"longitude\": longitude,\n",
    "        \"radius\": 1000\n",
    "    }\n",
    "\n",
    "    response = requests.get(url, headers=headers, params=params)\n",
    "    response.raise_for_status()\n",
    "\n",
    "    data_yelp = response.json()\n",
    "\n",
    "    if 'businesses' in data_yelp:\n",
    "        businesses = data_yelp['businesses']\n",
    "        \n",
    "        # Add latitude and longitude to each business\n",
    "        for business in businesses:\n",
    "            business['latitude'] = latitude\n",
    "            business['longitude'] = longitude\n",
    "\n",
    "        return businesses\n",
    "    else:\n",
    "        return []\n",
    "\n",
    "# Call the function for each bike station\n",
    "yelp_results = []\n",
    "\n",
    "for _, row in df.iterrows():\n",
    "    latitude = row['latitude']\n",
    "    longitude = row['longitude']\n",
    "\n",
    "    businesses = get_yelp(latitude, longitude, yelp_key)\n",
    "    yelp_results.extend(businesses)\n",
    "\n",
    "# Process the Yelp results as needed\n",
    "for business in yelp_results:\n",
    "    # Extract the details you want (name, rating, location, etc.)\n",
    "    name = business['name']\n",
    "    rating = business.get('rating', None)\n",
    "    location = business.get('location', {})\n",
    "    address = location.get('address1', '')\n",
    "    city = location.get('city', '')\n",
    "    state = location.get('state', '')\n",
    "    zip_code = location.get('zip_code', '')\n",
    "    latitude = business.get('latitude', None)\n",
    "    longitude = business.get('longitude', None)\n",
    "\n"
   ]
  },
  {
   "attachments": {},
   "cell_type": "markdown",
   "metadata": {},
   "source": [
    "Parse through the response to get the POI (such as restaurants, bars, etc) details you want (ratings, name, location, etc)"
   ]
  },
  {
   "cell_type": "code",
   "execution_count": 9,
   "metadata": {},
   "outputs": [],
   "source": [
    "# Parte 2: Process the Yelp results and store them in a list\n",
    "parsed_results = []\n",
    "\n",
    "for business in yelp_results:\n",
    "    # Extract the details you want (name, rating, location, etc.)\n",
    "    name = business['name']\n",
    "    rating = business.get('rating', None)\n",
    "    location = business.get('location', {})\n",
    "    address = location.get('address1', '')\n",
    "    city = location.get('city', '')\n",
    "    state = location.get('state', '')\n",
    "    zip_code = location.get('zip_code', '')\n",
    "    latitude = business.get('latitude', None)\n",
    "    longitude = business.get('longitude', None)\n",
    "\n",
    "    # Create a dictionary for the parsed result\n",
    "    parsed_result = {\n",
    "        'Name': name,\n",
    "        'Rating': rating,\n",
    "        'Address': address,\n",
    "        'City': city,\n",
    "        'State': state,\n",
    "        'ZIP Code': zip_code,\n",
    "        'Latitude': latitude,\n",
    "        'Longitude': longitude\n",
    "    }\n",
    "\n",
    "    # Append the parsed result to the list\n",
    "    parsed_results.append(parsed_result)\n"
   ]
  },
  {
   "attachments": {},
   "cell_type": "markdown",
   "metadata": {},
   "source": [
    "Put your parsed results into a DataFrame"
   ]
  },
  {
   "cell_type": "code",
   "execution_count": 10,
   "metadata": {},
   "outputs": [
    {
     "name": "stdout",
     "output_type": "stream",
     "text": [
      "                                          Name  Rating  \\\n",
      "0                                          BFC     4.0   \n",
      "1                            Maori Gastronomia     4.5   \n",
      "2                  Feitiço Mineiro Restaurante     4.5   \n",
      "3                      Mucho Gusto Gastronomia     4.5   \n",
      "4                                  Sushi Woman     4.0   \n",
      "...                                        ...     ...   \n",
      "1351  Cristina Colina da Pedra Cafés Especiais     5.0   \n",
      "1352                             Los Paleteros     4.5   \n",
      "1353                Museu Nacional de Brasília     4.0   \n",
      "1354                       Armazém do Ferreira     4.0   \n",
      "1355                              Espaço Grill     5.0   \n",
      "\n",
      "                              Address      City State   ZIP Code   Latitude  \\\n",
      "0             Cln 110 BLOCO B LOJA 62      Shcn    DF            -15.758862   \n",
      "1                            CLN, 110  Brasília    DF  70753-000 -15.758862   \n",
      "2              CLN 306 BL D  lj 45/51  Brasília    DF  70745-540 -15.758862   \n",
      "3                 CLN 309 BL A  lj 20  Brasília    DF  70755-510 -15.758862   \n",
      "4                 CLN 109 BL A  lj 20  Brasília    DF  70752-510 -15.758862   \n",
      "...                               ...       ...   ...        ...        ...   \n",
      "1351  CLN 202 Norte, Bloco A, Loja 45      Shcn    DF  70832-515 -15.789710   \n",
      "1352         SDN, Bloco Único, Térreo  Brasilia    DF            -15.789710   \n",
      "1353       Setor Cultural Sul, Lote 2  Brasilia    DF  70310-000 -15.789710   \n",
      "1354               Cln 202 Bloco A, 1  Brasília    DF  70832-515 -15.789710   \n",
      "1355             SCN Q 2 BL A  lj 300  Brasília    DF  70712-900 -15.789710   \n",
      "\n",
      "      Longitude  \n",
      "0    -47.888820  \n",
      "1    -47.888820  \n",
      "2    -47.888820  \n",
      "3    -47.888820  \n",
      "4    -47.888820  \n",
      "...         ...  \n",
      "1351 -47.880585  \n",
      "1352 -47.880585  \n",
      "1353 -47.880585  \n",
      "1354 -47.880585  \n",
      "1355 -47.880585  \n",
      "\n",
      "[1356 rows x 8 columns]\n"
     ]
    }
   ],
   "source": [
    "# Create a DataFrame from the parsed results\n",
    "df_yelp = pd.DataFrame(parsed_results)\n",
    "\n",
    "# Convert Latitude and Longitude columns to float\n",
    "df_yelp['Latitude'] = df_yelp['Latitude'].astype(float)\n",
    "df_yelp['Longitude'] = df_yelp['Longitude'].astype(float)\n",
    "\n",
    "# Print the DataFrame\n",
    "print(df_yelp)\n"
   ]
  },
  {
   "cell_type": "code",
   "execution_count": 14,
   "metadata": {},
   "outputs": [],
   "source": [
    "# Export the DataFrame to a CSV file\n",
    "df_foursquare.to_csv('df_foursquare.csv', index=False)\n",
    "df_yelp.to_csv('df_yelp.csv', index=False)\n"
   ]
  },
  {
   "attachments": {},
   "cell_type": "markdown",
   "metadata": {},
   "source": [
    "# Comparing Results"
   ]
  },
  {
   "attachments": {},
   "cell_type": "markdown",
   "metadata": {},
   "source": [
    "Which API provided you with more complete data? Provide an explanation. "
   ]
  },
  {
   "cell_type": "code",
   "execution_count": 19,
   "metadata": {},
   "outputs": [
    {
     "name": "stdout",
     "output_type": "stream",
     "text": [
      "Yelp POI Count: 1356\n",
      "Foursquare POI Count: 390\n",
      "------------------------\n",
      "Yelp Attributes Count: 8\n",
      "Foursquare Attributes Count: 7\n",
      "------------------------\n",
      "Yelp Average Reviews: 4.142330383480826\n",
      "Foursquare Average Reviews: 7.598102981029804\n",
      "------------------------\n",
      "Yelp Additional Attributes: Index([], dtype='object')\n"
     ]
    }
   ],
   "source": [
    "# Calculate the number of POIs from each API\n",
    "yelp_poi_count = len(df_yelp)\n",
    "foursquare_poi_count = len(df_foursquare)\n",
    "\n",
    "print(f\"Yelp POI Count: {yelp_poi_count}\")\n",
    "print(f\"Foursquare POI Count: {foursquare_poi_count}\")\n",
    "print(\"------------------------\")\n",
    "\n",
    "# Compare the completeness of data for each POI\n",
    "yelp_attributes_count = len(df_yelp.columns)\n",
    "foursquare_attributes_count = len(df_foursquare.columns)\n",
    "\n",
    "print(f\"Yelp Attributes Count: {yelp_attributes_count}\")\n",
    "print(f\"Foursquare Attributes Count: {foursquare_attributes_count}\")\n",
    "print(\"------------------------\")\n",
    "\n",
    "# Calculate the average number of reviews per POI\n",
    "yelp_avg_reviews = df_yelp['Rating'].mean()\n",
    "foursquare_avg_reviews = df_foursquare['rating'].mean()\n",
    "\n",
    "print(f\"Yelp Average Reviews: {yelp_avg_reviews}\")\n",
    "print(f\"Foursquare Average Reviews: {foursquare_avg_reviews}\")\n",
    "print(\"------------------------\")\n",
    "\n",
    "# Compare additional attributes\n",
    "yelp_additional_attributes = df_yelp.drop(['Name', 'Rating', 'Address', 'City', 'State', 'ZIP Code', 'Latitude', 'Longitude'], axis=1).columns\n",
    "foursquare_additional_attributes = df_foursquare.drop(['fsq_id', 'name', 'rating', 'categories', 'address', 'latitude', 'longitude'], axis=1).columns\n",
    "\n",
    "print(f\"Yelp Additional Attributes: {yelp_additional_attributes}\")\n"
   ]
  },
  {
   "cell_type": "code",
   "execution_count": null,
   "metadata": {},
   "outputs": [],
   "source": [
    "# Based on the comparison of the Yelp and Foursquare APIs for our location, we can make the following observations:\n",
    "\n",
    "# POI Count: Yelp provides a higher number of Points of Interest (POIs) with 1356, whereas Foursquare has 390 POIs. This indicates that Yelp has a larger database of businesses or locations in our area.\n",
    "\n",
    "# Attributes Count: Yelp has 8 attributes for each POI, while Foursquare has 7 attributes. This suggests that Yelp provides more detailed information about each POI.\n",
    "\n",
    "# Average Reviews: The average rating for Yelp POIs is 4.14, whereas for Foursquare POIs, it is 7.60. This indicates that Foursquare might have more reviews per POI, suggesting a higher level of engagement and user-generated content.\n",
    "\n",
    "# Additional Attributes: The Yelp dataset doesn't have any additional attributes beyond the standard ones like Name, Rating, Address, etc. Foursquare, on the other hand, might have additional attributes that are not present in the Yelp dataset.\n",
    "\n",
    "# Based on these comparisons, it appears that Yelp provides a larger number of POIs and more detailed attributes for each POI. However, Foursquare seems to have a higher average rating and potentially more user-generated content in the form of reviews."
   ]
  },
  {
   "attachments": {},
   "cell_type": "markdown",
   "metadata": {},
   "source": [
    "Get the top 10 restaurants according to their rating"
   ]
  },
  {
   "cell_type": "code",
   "execution_count": 22,
   "metadata": {},
   "outputs": [
    {
     "name": "stdout",
     "output_type": "stream",
     "text": [
      "                                            name  rating\n",
      "50                                       Oni-Uno     9.1\n",
      "316  Bacio di Latte - Shopping Conjunto Nacional     9.1\n",
      "71                          La Petit Boulangerie     9.0\n",
      "2                                Dulce Patagonia     8.9\n",
      "87                   Cachorro Quente do Edivaldo     8.8\n",
      "185                          Confeitaria Mineira     8.8\n",
      "290                      Castália Padaria e Café     8.8\n",
      "123                             Bischoff Gourmet     8.7\n",
      "20                                   Quanto Cafe     8.6\n",
      "45                                      Santé 13     8.6\n"
     ]
    }
   ],
   "source": [
    "df_foursquare_unique = df_foursquare.drop_duplicates(subset='name')\n",
    "top_10_foursquare = df_foursquare_unique.nlargest(10, 'rating')\n",
    "print(top_10_foursquare[['name', 'rating']])\n"
   ]
  },
  {
   "cell_type": "code",
   "execution_count": 23,
   "metadata": {},
   "outputs": [
    {
     "name": "stdout",
     "output_type": "stream",
     "text": [
      "                                         Name  Rating\n",
      "9                          Oyá Cozinha Vegana     5.0\n",
      "27                   Maestra Vida Restaurante     5.0\n",
      "43                               Supren Verda     5.0\n",
      "52                             Páprica Burger     5.0\n",
      "58   Cristina Colina da Pedra Cafés Especiais     5.0\n",
      "91                  Quiosque em frente ao HUB     5.0\n",
      "101                               GenghisKhan     5.0\n",
      "105                                  Cannelle     5.0\n",
      "106                              C'est si Bon     5.0\n",
      "108                             La Fornacella     5.0\n"
     ]
    }
   ],
   "source": [
    "df_yelp_unique = df_yelp.drop_duplicates(subset='Name')\n",
    "top_10_yelp = df_yelp_unique.nlargest(10, 'Rating')\n",
    "print(top_10_yelp[['Name', 'Rating']])\n"
   ]
  }
 ],
 "metadata": {
  "kernelspec": {
   "display_name": "test_env",
   "language": "python",
   "name": "test_env"
  },
  "language_info": {
   "codemirror_mode": {
    "name": "ipython",
    "version": 3
   },
   "file_extension": ".py",
   "mimetype": "text/x-python",
   "name": "python",
   "nbconvert_exporter": "python",
   "pygments_lexer": "ipython3",
   "version": "3.9.13"
  }
 },
 "nbformat": 4,
 "nbformat_minor": 4
}
