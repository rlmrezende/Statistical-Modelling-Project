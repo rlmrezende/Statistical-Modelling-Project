{
 "cells": [
  {
   "attachments": {},
   "cell_type": "markdown",
   "metadata": {},
   "source": [
    "# CityBikes"
   ]
  },
  {
   "attachments": {},
   "cell_type": "markdown",
   "metadata": {},
   "source": [
    "Send a request to CityBikes for the city of your choice. "
   ]
  },
  {
   "cell_type": "code",
   "execution_count": 3,
   "metadata": {},
   "outputs": [],
   "source": [
    "import pandas as pd\n",
    "import requests\n",
    "import datetime\n",
    "import plotly.express as px\n"
   ]
  },
  {
   "cell_type": "code",
   "execution_count": 5,
   "metadata": {},
   "outputs": [],
   "source": [
    "city_bikes = requests.get(\"http://api.citybik.es/v2/networks\").json()"
   ]
  },
  {
   "cell_type": "code",
   "execution_count": 6,
   "metadata": {},
   "outputs": [
    {
     "name": "stdout",
     "output_type": "stream",
     "text": [
      "bikebrasilia BikeBrasilia\n"
     ]
    }
   ],
   "source": [
    "networks_url = \"http://api.citybik.es/v2/networks\"\n",
    "networks_response = requests.get(networks_url).json()\n",
    "\n",
    "bsb_networks = []\n",
    "for network in networks_response['networks']:\n",
    "    if network['location']['city'] == 'Brasília':\n",
    "        bsb_networks.append(network)\n",
    "\n",
    "for network in bsb_networks:\n",
    "    print(network['id'], network['name'])\n",
    "\n"
   ]
  },
  {
   "cell_type": "code",
   "execution_count": 7,
   "metadata": {},
   "outputs": [
    {
     "name": "stdout",
     "output_type": "stream",
     "text": [
      "bikebrasilia has 70 bike stations.\n"
     ]
    }
   ],
   "source": [
    "bikebrasilia_stations_url = \"http://api.citybik.es/v2/networks/bikebrasilia\"\n",
    "bikebrasilia_stations_response = requests.get(bikebrasilia_stations_url).json()\n",
    "\n",
    "\n",
    "bikebrasilia_station_count = len(bikebrasilia_stations_response['network']['stations'])\n",
    "\n",
    "\n",
    "print(\"bikebrasilia has\", bikebrasilia_station_count, \"bike stations.\")"
   ]
  },
  {
   "cell_type": "code",
   "execution_count": 8,
   "metadata": {},
   "outputs": [],
   "source": [
    "bikebrasilia_stations_url = \"http://api.citybik.es/v2/networks/bikebrasilia\"\n",
    "bikebrasilia_stations_response = requests.get(bikebrasilia_stations_url).json()"
   ]
  },
  {
   "attachments": {},
   "cell_type": "markdown",
   "metadata": {},
   "source": [
    "Parse through the response to get the details you want for the bike stations in that city (latitude, longitude, number of bikes). "
   ]
  },
  {
   "cell_type": "code",
   "execution_count": 9,
   "metadata": {},
   "outputs": [
    {
     "data": {
      "text/plain": [
       "'Name: 56 - CLN 110 W1 Norte, Slots: 7, Free Bikes: 4, Latitude: -15.758862, Longitude: -47.88882'"
      ]
     },
     "metadata": {},
     "output_type": "display_data"
    },
    {
     "data": {
      "text/plain": [
       "'Name: 54 - CLN 107, Slots: 7, Free Bikes: 4, Latitude: -15.766, Longitude: -47.88646'"
      ]
     },
     "metadata": {},
     "output_type": "display_data"
    },
    {
     "data": {
      "text/plain": [
       "'Name: 42 - CLN 204 L1 Norte, Slots: 5, Free Bikes: 4, Latitude: -15.77662, Longitude: -47.87749'"
      ]
     },
     "metadata": {},
     "output_type": "display_data"
    },
    {
     "data": {
      "text/plain": [
       "'Name: 48 - CLN 209 L1 Norte, Slots: 5, Free Bikes: 10, Latitude: -15.75737, Longitude: -47.88223'"
      ]
     },
     "metadata": {},
     "output_type": "display_data"
    },
    {
     "data": {
      "text/plain": [
       "'Name: 43 - SQN 405 L2 Norte, Slots: 10, Free Bikes: 5, Latitude: -15.77163, Longitude: -47.87505'"
      ]
     },
     "metadata": {},
     "output_type": "display_data"
    },
    {
     "data": {
      "text/plain": [
       "\"Name: 60 - Parque Olhos d'Água, Slots: 9, Free Bikes: 2, Latitude: -15.7431, Longitude: -47.88667\""
      ]
     },
     "metadata": {},
     "output_type": "display_data"
    },
    {
     "data": {
      "text/plain": [
       "'Name: 63 - Parque da Cidade Sudoeste, Slots: 5, Free Bikes: 10, Latitude: -15.80362, Longitude: -47.922115'"
      ]
     },
     "metadata": {},
     "output_type": "display_data"
    },
    {
     "data": {
      "text/plain": [
       "'Name: 64 - CLSW 103, Slots: 11, Free Bikes: 0, Latitude: -15.800801, Longitude: -47.924156'"
      ]
     },
     "metadata": {},
     "output_type": "display_data"
    },
    {
     "data": {
      "text/plain": [
       "'Name: 49 - IFB, Slots: 4, Free Bikes: 7, Latitude: -15.75394, Longitude: -47.87968'"
      ]
     },
     "metadata": {},
     "output_type": "display_data"
    },
    {
     "data": {
      "text/plain": [
       "'Name: 66 - Parque Bosque do Sudoeste, Slots: 11, Free Bikes: 0, Latitude: -15.79625, Longitude: -47.92669'"
      ]
     },
     "metadata": {},
     "output_type": "display_data"
    },
    {
     "data": {
      "text/plain": [
       "'Name: 52 - EQN 104/105 W1 Norte, Slots: 6, Free Bikes: 5, Latitude: -15.7742267, Longitude: -47.884534'"
      ]
     },
     "metadata": {},
     "output_type": "display_data"
    },
    {
     "data": {
      "text/plain": [
       "'Name: 53 - Praça da 705/706, Slots: 7, Free Bikes: 4, Latitude: -15.77162, Longitude: -47.88897'"
      ]
     },
     "metadata": {},
     "output_type": "display_data"
    },
    {
     "data": {
      "text/plain": [
       "'Name: 24 - CLS 103 W1 Sul, Slots: 3, Free Bikes: 7, Latitude: -15.80585, Longitude: -47.89368'"
      ]
     },
     "metadata": {},
     "output_type": "display_data"
    },
    {
     "data": {
      "text/plain": [
       "'Name: 25 - EQS 705/706 W3 Sul, Slots: 9, Free Bikes: 2, Latitude: -15.80786, Longitude: -47.90086'"
      ]
     },
     "metadata": {},
     "output_type": "display_data"
    },
    {
     "data": {
      "text/plain": [
       "'Name: 26 - Praça 21 de Abril, Slots: 11, Free Bikes: 0, Latitude: -15.81152, Longitude: -47.90537'"
      ]
     },
     "metadata": {},
     "output_type": "display_data"
    },
    {
     "data": {
      "text/plain": [
       "'Name: 27 - CLS 202 L1 Sul, Slots: 6, Free Bikes: 5, Latitude: -15.80591, Longitude: -47.88487'"
      ]
     },
     "metadata": {},
     "output_type": "display_data"
    },
    {
     "data": {
      "text/plain": [
       "'Name: 20 - Shopping Pátio Brasil, Slots: 9, Free Bikes: 1, Latitude: -15.79728, Longitude: -47.89144'"
      ]
     },
     "metadata": {},
     "output_type": "display_data"
    },
    {
     "data": {
      "text/plain": [
       "'Name: 21 - Metrô Galeria, Slots: 15, Free Bikes: 4, Latitude: -15.799, Longitude: -47.88558'"
      ]
     },
     "metadata": {},
     "output_type": "display_data"
    },
    {
     "data": {
      "text/plain": [
       "'Name: 22 - Metrô 102 Sul, Slots: 7, Free Bikes: 7, Latitude: -15.80552, Longitude: -47.89005'"
      ]
     },
     "metadata": {},
     "output_type": "display_data"
    },
    {
     "data": {
      "text/plain": [
       "'Name: 23 - Santuário Dom Bosco, Slots: 11, Free Bikes: 0, Latitude: -15.80048, Longitude: -47.894'"
      ]
     },
     "metadata": {},
     "output_type": "display_data"
    },
    {
     "data": {
      "text/plain": [
       "'Name: 46 - SQN 207 ERL Norte, Slots: 7, Free Bikes: 6, Latitude: -15.765416, Longitude: -47.8822458'"
      ]
     },
     "metadata": {},
     "output_type": "display_data"
    },
    {
     "data": {
      "text/plain": [
       "'Name: 47 - SQN 408 L2 Norte, Slots: 7, Free Bikes: 8, Latitude: -15.76071938, Longitude: -47.87787'"
      ]
     },
     "metadata": {},
     "output_type": "display_data"
    },
    {
     "data": {
      "text/plain": [
       "'Name: 44 - CLN 206 L1 Norte, Slots: 1, Free Bikes: 10, Latitude: -15.769631, Longitude: -47.878498'"
      ]
     },
     "metadata": {},
     "output_type": "display_data"
    },
    {
     "data": {
      "text/plain": [
       "'Name: 45 - CLN 406 L2 Norte, Slots: 12, Free Bikes: 7, Latitude: -15.76539, Longitude: -47.87646'"
      ]
     },
     "metadata": {},
     "output_type": "display_data"
    },
    {
     "data": {
      "text/plain": [
       "'Name: 29 - SQS 402 L2 Sul, Slots: 3, Free Bikes: 8, Latitude: -15.8093871, Longitude: -47.883783'"
      ]
     },
     "metadata": {},
     "output_type": "display_data"
    },
    {
     "data": {
      "text/plain": [
       "'Name: 41 - SQN 402 L2 Norte, Slots: 5, Free Bikes: 6, Latitude: -15.7809333, Longitude: -47.8742053'"
      ]
     },
     "metadata": {},
     "output_type": "display_data"
    },
    {
     "data": {
      "text/plain": [
       "'Name: 65 - CLSW 101, Slots: 7, Free Bikes: 4, Latitude: -15.797501, Longitude: -47.919256'"
      ]
     },
     "metadata": {},
     "output_type": "display_data"
    },
    {
     "data": {
      "text/plain": [
       "'Name: 2 - Praça CLDF, Slots: 5, Free Bikes: 6, Latitude: -15.7864, Longitude: -47.91002'"
      ]
     },
     "metadata": {},
     "output_type": "display_data"
    },
    {
     "data": {
      "text/plain": [
       "'Name: 1 - Memorial JK, Slots: 13, Free Bikes: 2, Latitude: -15.78524, Longitude: -47.9136'"
      ]
     },
     "metadata": {},
     "output_type": "display_data"
    },
    {
     "data": {
      "text/plain": [
       "'Name: 59 - Plaza Norte ERW Norte, Slots: 4, Free Bikes: 7, Latitude: -15.75447, Longitude: -47.88741'"
      ]
     },
     "metadata": {},
     "output_type": "display_data"
    },
    {
     "data": {
      "text/plain": [
       "'Name: 58 - 711/911 W4 norte, Slots: 14, Free Bikes: 1, Latitude: -15.75565, Longitude: -47.89678'"
      ]
     },
     "metadata": {},
     "output_type": "display_data"
    },
    {
     "data": {
      "text/plain": [
       "'Name: 19 - Praça do Compromisso, Slots: 10, Free Bikes: 1, Latitude: -15.80371, Longitude: -47.89677'"
      ]
     },
     "metadata": {},
     "output_type": "display_data"
    },
    {
     "data": {
      "text/plain": [
       "'Name: 18 - Parque da Cidade SRTVS, Slots: 23, Free Bikes: 3, Latitude: -15.79498, Longitude: -47.89508'"
      ]
     },
     "metadata": {},
     "output_type": "display_data"
    },
    {
     "data": {
      "text/plain": [
       "'Name: 31 - CLS 405 L2 Sul, Slots: 7, Free Bikes: 4, Latitude: -15.81576, Longitude: -47.88963'"
      ]
     },
     "metadata": {},
     "output_type": "display_data"
    },
    {
     "data": {
      "text/plain": [
       "'Name: 30 - CLS 204, Slots: 8, Free Bikes: 3, Latitude: -15.81078, Longitude: -47.88899'"
      ]
     },
     "metadata": {},
     "output_type": "display_data"
    },
    {
     "data": {
      "text/plain": [
       "'Name: 37 - Igrejinha, Slots: 10, Free Bikes: 1, Latitude: -15.81428, Longitude: -47.90281'"
      ]
     },
     "metadata": {},
     "output_type": "display_data"
    },
    {
     "data": {
      "text/plain": [
       "'Name: 36 - Metrô 108 Sul, Slots: 13, Free Bikes: 1, Latitude: -15.81845, Longitude: -47.90425'"
      ]
     },
     "metadata": {},
     "output_type": "display_data"
    },
    {
     "data": {
      "text/plain": [
       "'Name: 35 - CLS 207 L1 Sul, Slots: 8, Free Bikes: 3, Latitude: -15.81975, Longitude: -47.89879'"
      ]
     },
     "metadata": {},
     "output_type": "display_data"
    },
    {
     "data": {
      "text/plain": [
       "'Name: 34 - Brasília Shopping, Slots: 4, Free Bikes: 6, Latitude: -15.78696, Longitude: -47.88786'"
      ]
     },
     "metadata": {},
     "output_type": "display_data"
    },
    {
     "data": {
      "text/plain": [
       "'Name: 33 - CLS 407 L2 Sul, Slots: 4, Free Bikes: 7, Latitude: -15.820776, Longitude: -47.89532'"
      ]
     },
     "metadata": {},
     "output_type": "display_data"
    },
    {
     "data": {
      "text/plain": [
       "'Name: 32 - SQS 406, Slots: 10, Free Bikes: 1, Latitude: -15.81603, Longitude: -47.89383'"
      ]
     },
     "metadata": {},
     "output_type": "display_data"
    },
    {
     "data": {
      "text/plain": [
       "'Name: 50 - SQN 411 L1 Norte, Slots: 9, Free Bikes: 2, Latitude: -15.751378, Longitude: -47.883785'"
      ]
     },
     "metadata": {},
     "output_type": "display_data"
    },
    {
     "data": {
      "text/plain": [
       "'Name: 57 - 709/710 W3 Norte, Slots: 10, Free Bikes: 1, Latitude: -15.7586355, Longitude: -47.89290279999999'"
      ]
     },
     "metadata": {},
     "output_type": "display_data"
    },
    {
     "data": {
      "text/plain": [
       "'Name: UNB Instituto de Artes, Slots: 17, Free Bikes: 6, Latitude: -15.765081, Longitude: -47.870828'"
      ]
     },
     "metadata": {},
     "output_type": "display_data"
    },
    {
     "data": {
      "text/plain": [
       "'Name: 68 - UNB ICC Sul, Slots: 9, Free Bikes: 6, Latitude: -15.766054, Longitude: -47.867025'"
      ]
     },
     "metadata": {},
     "output_type": "display_data"
    },
    {
     "data": {
      "text/plain": [
       "'Name: 69 - UNB PAT, Slots: 9, Free Bikes: 6, Latitude: -15.75939, Longitude: -47.87037'"
      ]
     },
     "metadata": {},
     "output_type": "display_data"
    },
    {
     "data": {
      "text/plain": [
       "'Name: 39 - OAB, Slots: 7, Free Bikes: 4, Latitude: -15.80433, Longitude: -47.87934'"
      ]
     },
     "metadata": {},
     "output_type": "display_data"
    },
    {
     "data": {
      "text/plain": [
       "'Name: 38 - SQS 105 W1 Sul, Slots: 7, Free Bikes: 4, Latitude: -15.81039, Longitude: -47.89803'"
      ]
     },
     "metadata": {},
     "output_type": "display_data"
    },
    {
     "data": {
      "text/plain": [
       "'Name: 62 - CLN 102, Slots: 9, Free Bikes: 2, Latitude: -15.78307, Longitude: -47.88402'"
      ]
     },
     "metadata": {},
     "output_type": "display_data"
    },
    {
     "data": {
      "text/plain": [
       "'Name: 55 - UniCEUB, Slots: 9, Free Bikes: 0, Latitude: -15.76929, Longitude: -47.8925'"
      ]
     },
     "metadata": {},
     "output_type": "display_data"
    },
    {
     "data": {
      "text/plain": [
       "'Name: 51 - 702/703 W3 Norte, Slots: 11, Free Bikes: 0, Latitude: -15.78104, Longitude: -47.89076'"
      ]
     },
     "metadata": {},
     "output_type": "display_data"
    },
    {
     "data": {
      "text/plain": [
       "'Name: 5 - Setor Hoteleiro Norte, Slots: 3, Free Bikes: 8, Latitude: -15.7911, Longitude: -47.8867'"
      ]
     },
     "metadata": {},
     "output_type": "display_data"
    },
    {
     "data": {
      "text/plain": [
       "'Name: 4 - Torre de TV, Slots: 4, Free Bikes: 7, Latitude: -15.78813, Longitude: -47.89467'"
      ]
     },
     "metadata": {},
     "output_type": "display_data"
    },
    {
     "data": {
      "text/plain": [
       "'Name: 7 - Rodoviária Leste, Slots: 0, Free Bikes: 19, Latitude: -15.79356, Longitude: -47.8813'"
      ]
     },
     "metadata": {},
     "output_type": "display_data"
    },
    {
     "data": {
      "text/plain": [
       "'Name: 6 - Rodoviária Oeste, Slots: 7, Free Bikes: 16, Latitude: -15.79276, Longitude: -47.88358'"
      ]
     },
     "metadata": {},
     "output_type": "display_data"
    },
    {
     "data": {
      "text/plain": [
       "'Name: 9 - Ministério dos Transportes Bloco R, Slots: 6, Free Bikes: 5, Latitude: -15.79751, Longitude: -47.86669'"
      ]
     },
     "metadata": {},
     "output_type": "display_data"
    },
    {
     "data": {
      "text/plain": [
       "'Name: 8 - Rodoviária Superior, Slots: 16, Free Bikes: 3, Latitude: -15.79297, Longitude: -47.882997'"
      ]
     },
     "metadata": {},
     "output_type": "display_data"
    },
    {
     "data": {
      "text/plain": [
       "'Name: 11 - Ministério da Economia Bloco F, Slots: 13, Free Bikes: 2, Latitude: -15.7993, Longitude: -47.86937'"
      ]
     },
     "metadata": {},
     "output_type": "display_data"
    },
    {
     "data": {
      "text/plain": [
       "'Name: 10 - STF, Slots: 5, Free Bikes: 6, Latitude: -15.80136, Longitude: -47.86296'"
      ]
     },
     "metadata": {},
     "output_type": "display_data"
    },
    {
     "data": {
      "text/plain": [
       "'Name: 12 - Ministério da Cidadania Bloco B, Slots: 8, Free Bikes: 3, Latitude: -15.79825, Longitude: -47.87266'"
      ]
     },
     "metadata": {},
     "output_type": "display_data"
    },
    {
     "data": {
      "text/plain": [
       "'Name: 13 - Catedral Metropolitana, Slots: 9, Free Bikes: 5, Latitude: -15.79762, Longitude: -47.87458'"
      ]
     },
     "metadata": {},
     "output_type": "display_data"
    },
    {
     "data": {
      "text/plain": [
       "'Name: 15 - Ministério da Defesa Bloco O, Slots: 11, Free Bikes: 0, Latitude: -15.79626, Longitude: -47.87105'"
      ]
     },
     "metadata": {},
     "output_type": "display_data"
    },
    {
     "data": {
      "text/plain": [
       "'Name: 14 - Ministério da Economia Bloco J, Slots: 10, Free Bikes: 1, Latitude: -15.79521, Longitude: -47.87454'"
      ]
     },
     "metadata": {},
     "output_type": "display_data"
    },
    {
     "data": {
      "text/plain": [
       "'Name: 16 - Setor Hoteleiro Sul, Slots: 10, Free Bikes: 1, Latitude: -15.792664, Longitude: -47.89194969'"
      ]
     },
     "metadata": {},
     "output_type": "display_data"
    },
    {
     "data": {
      "text/plain": [
       "'Name: 3 - Centro de Convenções, Slots: 7, Free Bikes: 4, Latitude: -15.78611, Longitude: -47.9007'"
      ]
     },
     "metadata": {},
     "output_type": "display_data"
    },
    {
     "data": {
      "text/plain": [
       "'Name: 70 - UNB Centro Olímpico, Slots: 9, Free Bikes: 2, Latitude: -15.76502, Longitude: -47.8584'"
      ]
     },
     "metadata": {},
     "output_type": "display_data"
    },
    {
     "data": {
      "text/plain": [
       "'Name: 17 - Funarte, Slots: 4, Free Bikes: 10, Latitude: -15.7911626, Longitude: -47.8976'"
      ]
     },
     "metadata": {},
     "output_type": "display_data"
    },
    {
     "data": {
      "text/plain": [
       "'Name: 61 - CLN 113 W1 Norte, Slots: 8, Free Bikes: 3, Latitude: -15.75038, Longitude: -47.89166'"
      ]
     },
     "metadata": {},
     "output_type": "display_data"
    },
    {
     "data": {
      "text/plain": [
       "'Name: 28 - Banco Central, Slots: 6, Free Bikes: 5, Latitude: -15.79974, Longitude: -47.88411'"
      ]
     },
     "metadata": {},
     "output_type": "display_data"
    },
    {
     "data": {
      "text/plain": [
       "'Name: 40 - SBN, Slots: 5, Free Bikes: 6, Latitude: -15.78971, Longitude: -47.880585'"
      ]
     },
     "metadata": {},
     "output_type": "display_data"
    }
   ],
   "source": [
    "bikebrasilia_stations = bikebrasilia_stations_response['network']['stations']\n",
    "\n",
    "for station in bikebrasilia_stations:\n",
    "    name = station['name']\n",
    "    free_bikes = station['free_bikes']\n",
    "    slots = station['empty_slots']\n",
    "    latitude = station['latitude']\n",
    "    longitude = station['longitude']\n",
    "    \n",
    "    display(f\"Name: {name}, Slots: {slots}, Free Bikes: {free_bikes}, Latitude: {latitude}, Longitude: {longitude}\")\n"
   ]
  },
  {
   "attachments": {},
   "cell_type": "markdown",
   "metadata": {},
   "source": [
    "Put your parsed results into a DataFrame."
   ]
  },
  {
   "cell_type": "code",
   "execution_count": 10,
   "metadata": {},
   "outputs": [
    {
     "data": {
      "text/html": [
       "<div>\n",
       "<style scoped>\n",
       "    .dataframe tbody tr th:only-of-type {\n",
       "        vertical-align: middle;\n",
       "    }\n",
       "\n",
       "    .dataframe tbody tr th {\n",
       "        vertical-align: top;\n",
       "    }\n",
       "\n",
       "    .dataframe thead th {\n",
       "        text-align: right;\n",
       "    }\n",
       "</style>\n",
       "<table border=\"1\" class=\"dataframe\">\n",
       "  <thead>\n",
       "    <tr style=\"text-align: right;\">\n",
       "      <th></th>\n",
       "      <th>name</th>\n",
       "      <th>empty_slots</th>\n",
       "      <th>free_bikes</th>\n",
       "      <th>latitude</th>\n",
       "      <th>longitude</th>\n",
       "    </tr>\n",
       "  </thead>\n",
       "  <tbody>\n",
       "    <tr>\n",
       "      <th>0</th>\n",
       "      <td>56 - CLN 110 W1 Norte</td>\n",
       "      <td>7</td>\n",
       "      <td>4</td>\n",
       "      <td>-15.758862</td>\n",
       "      <td>-47.888820</td>\n",
       "    </tr>\n",
       "    <tr>\n",
       "      <th>1</th>\n",
       "      <td>54 - CLN 107</td>\n",
       "      <td>7</td>\n",
       "      <td>4</td>\n",
       "      <td>-15.766000</td>\n",
       "      <td>-47.886460</td>\n",
       "    </tr>\n",
       "    <tr>\n",
       "      <th>2</th>\n",
       "      <td>42 - CLN 204 L1 Norte</td>\n",
       "      <td>5</td>\n",
       "      <td>4</td>\n",
       "      <td>-15.776620</td>\n",
       "      <td>-47.877490</td>\n",
       "    </tr>\n",
       "    <tr>\n",
       "      <th>3</th>\n",
       "      <td>48 - CLN 209 L1 Norte</td>\n",
       "      <td>5</td>\n",
       "      <td>10</td>\n",
       "      <td>-15.757370</td>\n",
       "      <td>-47.882230</td>\n",
       "    </tr>\n",
       "    <tr>\n",
       "      <th>4</th>\n",
       "      <td>43 - SQN 405 L2 Norte</td>\n",
       "      <td>10</td>\n",
       "      <td>5</td>\n",
       "      <td>-15.771630</td>\n",
       "      <td>-47.875050</td>\n",
       "    </tr>\n",
       "    <tr>\n",
       "      <th>5</th>\n",
       "      <td>60 - Parque Olhos d'Água</td>\n",
       "      <td>9</td>\n",
       "      <td>2</td>\n",
       "      <td>-15.743100</td>\n",
       "      <td>-47.886670</td>\n",
       "    </tr>\n",
       "    <tr>\n",
       "      <th>6</th>\n",
       "      <td>63 - Parque da Cidade Sudoeste</td>\n",
       "      <td>5</td>\n",
       "      <td>10</td>\n",
       "      <td>-15.803620</td>\n",
       "      <td>-47.922115</td>\n",
       "    </tr>\n",
       "    <tr>\n",
       "      <th>7</th>\n",
       "      <td>64 - CLSW 103</td>\n",
       "      <td>11</td>\n",
       "      <td>0</td>\n",
       "      <td>-15.800801</td>\n",
       "      <td>-47.924156</td>\n",
       "    </tr>\n",
       "    <tr>\n",
       "      <th>8</th>\n",
       "      <td>49 - IFB</td>\n",
       "      <td>4</td>\n",
       "      <td>7</td>\n",
       "      <td>-15.753940</td>\n",
       "      <td>-47.879680</td>\n",
       "    </tr>\n",
       "    <tr>\n",
       "      <th>9</th>\n",
       "      <td>66 - Parque Bosque do Sudoeste</td>\n",
       "      <td>11</td>\n",
       "      <td>0</td>\n",
       "      <td>-15.796250</td>\n",
       "      <td>-47.926690</td>\n",
       "    </tr>\n",
       "  </tbody>\n",
       "</table>\n",
       "</div>"
      ],
      "text/plain": [
       "                             name  empty_slots  free_bikes   latitude  \\\n",
       "0           56 - CLN 110 W1 Norte            7           4 -15.758862   \n",
       "1                    54 - CLN 107            7           4 -15.766000   \n",
       "2           42 - CLN 204 L1 Norte            5           4 -15.776620   \n",
       "3           48 - CLN 209 L1 Norte            5          10 -15.757370   \n",
       "4           43 - SQN 405 L2 Norte           10           5 -15.771630   \n",
       "5        60 - Parque Olhos d'Água            9           2 -15.743100   \n",
       "6  63 - Parque da Cidade Sudoeste            5          10 -15.803620   \n",
       "7                   64 - CLSW 103           11           0 -15.800801   \n",
       "8                        49 - IFB            4           7 -15.753940   \n",
       "9  66 - Parque Bosque do Sudoeste           11           0 -15.796250   \n",
       "\n",
       "   longitude  \n",
       "0 -47.888820  \n",
       "1 -47.886460  \n",
       "2 -47.877490  \n",
       "3 -47.882230  \n",
       "4 -47.875050  \n",
       "5 -47.886670  \n",
       "6 -47.922115  \n",
       "7 -47.924156  \n",
       "8 -47.879680  \n",
       "9 -47.926690  "
      ]
     },
     "execution_count": 10,
     "metadata": {},
     "output_type": "execute_result"
    }
   ],
   "source": [
    "# Create a dataframe with station information\n",
    "df_bikebrasilia = pd.DataFrame(bikebrasilia_stations)\n",
    "\n",
    "# Select the desired columns: latitude, longitude, and number of bikes\n",
    "df = df_bikebrasilia[['name', 'empty_slots', 'free_bikes', 'latitude', 'longitude']]\n",
    "df.head(10)"
   ]
  },
  {
   "cell_type": "code",
   "execution_count": 11,
   "metadata": {},
   "outputs": [],
   "source": [
    "# Export the DataFrame to a CSV file\n",
    "df.to_csv('df_city_bike.csv', index=False)\n"
   ]
  }
 ],
 "metadata": {
  "kernelspec": {
   "display_name": "test_env",
   "language": "python",
   "name": "test_env"
  },
  "language_info": {
   "codemirror_mode": {
    "name": "ipython",
    "version": 3
   },
   "file_extension": ".py",
   "mimetype": "text/x-python",
   "name": "python",
   "nbconvert_exporter": "python",
   "pygments_lexer": "ipython3",
   "version": "3.9.13"
  }
 },
 "nbformat": 4,
 "nbformat_minor": 4
}
